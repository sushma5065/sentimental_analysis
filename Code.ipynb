{
 "cells": [
  {
   "cell_type": "code",
   "execution_count": 17,
   "id": "c863ef1a",
   "metadata": {},
   "outputs": [
    {
     "name": "stdout",
     "output_type": "stream",
     "text": [
      "      Name  Name_Sentiment_Score\n",
      "2  karthik                  60.0\n",
      "4    mehak                  60.0\n",
      "5   nikhil                  50.0\n",
      "7   sameer                  60.0\n",
      "8   sushma                  60.0\n"
     ]
    },
    {
     "name": "stderr",
     "output_type": "stream",
     "text": [
      "[nltk_data] Downloading package punkt to\n",
      "[nltk_data]     C:\\Users\\akagr\\AppData\\Roaming\\nltk_data...\n",
      "[nltk_data]   Package punkt is already up-to-date!\n"
     ]
    }
   ],
   "source": [
    "import pandas as pd\n",
    "import nltk\n",
    "from nltk.tokenize import word_tokenize\n",
    "import string\n",
    "\n",
    "nltk.download('punkt')\n",
    "\n",
    "positive_words = ['good', 'together' , 'pdf' , 'excellent', 'awesome', 'happy', 'enjoying', 'excited', 'collaborative', 'productive', 'good luck', 'safe', 'joined', ':+1:', ':heart:', ':relaxed:', ':tada:']\n",
    "negative_words = ['bad', 'terrible', 'horrible', 'awful', 'sad', 'disappointing', 'dreadful', 'annoying', 'frustrating', 'unpleasant', 'frustrating']\n",
    "\n",
    "def calculate_sentiment_score(text):\n",
    "    if pd.notnull(text):\n",
    "        tokens = word_tokenize(text.lower())\n",
    "        sentiment_score = 0\n",
    "        for token in tokens:\n",
    "            token = token.strip(string.punctuation)\n",
    "            if token in positive_words:\n",
    "                sentiment_score += 1\n",
    "            elif token in negative_words:\n",
    "                sentiment_score -= 1\n",
    "        return sentiment_score\n",
    "    return 0\n",
    "\n",
    "def map_to_0_to_100(score):\n",
    "    max_score = 5\n",
    "    min_score = -5\n",
    "    scaled_score = ((score - min_score) / (max_score - min_score)) * 100\n",
    "    return min(max(scaled_score, 0), 100)\n",
    "\n",
    "def calculate_name_sentiment_score(name_group):\n",
    "    sentiment_scores = name_group['Text'].apply(calculate_sentiment_score)\n",
    "    message_lengths = name_group['Text'].str.len()\n",
    "    \n",
    "    if message_lengths.sum() > 0:\n",
    "        weighted_score = (sentiment_scores * message_lengths).sum() / message_lengths.sum()\n",
    "        return map_to_0_to_100(weighted_score)\n",
    "    else:\n",
    "        return 0\n",
    "\n",
    "df = pd.read_csv(r'C:\\Users\\akagr\\OneDrive\\Desktop\\XtraLeap\\Sentimental Analysis\\dataset.csv')\n",
    "df['Sentiment_Score'] = df['Text'].apply(calculate_sentiment_score)\n",
    "name_scores = df.groupby('Name').apply(calculate_name_sentiment_score).reset_index()\n",
    "name_scores.columns = ['Name', 'Name_Sentiment_Score']\n",
    "name_scores = name_scores[name_scores['Name_Sentiment_Score'] > 0]\n",
    "\n",
    "print(name_scores)\n"
   ]
  },
  {
   "cell_type": "code",
   "execution_count": null,
   "id": "01cd2250",
   "metadata": {},
   "outputs": [],
   "source": []
  }
 ],
 "metadata": {
  "kernelspec": {
   "display_name": "Python 3 (ipykernel)",
   "language": "python",
   "name": "python3"
  },
  "language_info": {
   "codemirror_mode": {
    "name": "ipython",
    "version": 3
   },
   "file_extension": ".py",
   "mimetype": "text/x-python",
   "name": "python",
   "nbconvert_exporter": "python",
   "pygments_lexer": "ipython3",
   "version": "3.10.9"
  }
 },
 "nbformat": 4,
 "nbformat_minor": 5
}
